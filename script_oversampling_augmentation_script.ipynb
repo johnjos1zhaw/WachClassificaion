{
  "cells": [
    {
      "cell_type": "markdown",
      "metadata": {
        "id": "view-in-github",
        "colab_type": "text"
      },
      "source": [
        "<a href=\"https://colab.research.google.com/github/johnjos1zhaw/WatchClassificaion/blob/master/script_oversampling_augmentation_script.ipynb\" target=\"_parent\"><img src=\"https://colab.research.google.com/assets/colab-badge.svg\" alt=\"Open In Colab\"/></a>"
      ]
    },
    {
      "cell_type": "markdown",
      "metadata": {
        "id": "JlLqBtgREzh9"
      },
      "source": [
        "**V1:**\n",
        "\n",
        "Here I create augmented_data for all the minority classes (all brands with less than 300 images) with the factor 10."
      ]
    },
    {
      "cell_type": "code",
      "execution_count": null,
      "metadata": {
        "id": "Q0AE2tpxEziB"
      },
      "outputs": [],
      "source": [
        "from tensorflow.keras.preprocessing.image import ImageDataGenerator, img_to_array, load_img\n",
        "import os\n",
        "\n",
        "# create a data generator\n",
        "datagen = ImageDataGenerator(rescale=1./255, \n",
        "                             rotation_range=15, \n",
        "                             width_shift_range=0.2,\n",
        "                             height_shift_range=0.2,\n",
        "                             brightness_range=[0.2,1.0],\n",
        "                             zoom_range=0.2,\n",
        "                             horizontal_flip=True)\n",
        "\n",
        "# Specify the classes that are underrepresented\n",
        "underrepresented = ['Breguet', 'Tudor', 'Rado', 'TAG Heuer', 'Jaeger-LeCoultre', \n",
        "                    'Maurice Lacroix', 'Zenith', 'Nomos Glashütte', 'Hamilton', \n",
        "                    'IWC', 'Panerai', 'Glashütte Original', 'Montblanc', 'Cartier',\n",
        "                    'A. Lange & Söhne', 'Mido', 'Bremont', 'Laco'\n",
        "                    ] \n",
        "\n",
        "# Iterate over the data generator and save the augmented images to a directory\n",
        "for brand in underrepresented:\n",
        "    for model in os.listdir('/content/drive/MyDrive/included_data/' + brand):\n",
        "        for img in os.listdir('/content/drive/MyDrive/included_data/' + brand + '/' + model):\n",
        "            image = load_img('/content/drive/MyDrive/included_data/' + brand + '/' + model + '/' + img) \n",
        "            image = img_to_array(image) \n",
        "            image = image.reshape((1,) + image.shape)\n",
        "\n",
        "            # Create a new directory for each brand and model if it does not exist yet\n",
        "            directory = '/content/drive/MyDrive/augmented_data/' + brand + '/' + model\n",
        "            if not os.path.exists(directory):\n",
        "                os.makedirs(directory)\n",
        "\n",
        "            i = 0\n",
        "            for batch in datagen.flow(image, batch_size=1, \n",
        "                                      save_to_dir=directory, \n",
        "                                      save_prefix='aug', save_format='jpeg'):\n",
        "                i += 1\n",
        "                if i > 10: # Depending on how much you want to oversample\n",
        "                    break\n"
      ]
    },
    {
      "cell_type": "markdown",
      "metadata": {
        "id": "8GsN_EV7EziE"
      },
      "source": [
        "count of augmented data"
      ]
    },
    {
      "cell_type": "code",
      "execution_count": null,
      "metadata": {
        "id": "NPg43ixZEziF"
      },
      "outputs": [],
      "source": [
        "import os\n",
        "underrepresented = ['Breguet', 'Tudor', 'Rado', 'TAG Heuer', 'Jaeger-LeCoultre', \n",
        "                    'Maurice Lacroix', 'Zenith', 'Nomos Glashütte', 'Hamilton', \n",
        "                    'IWC', 'Panerai', 'Glashütte Original', 'Montblanc', 'Cartier',\n",
        "                    'A. Lange & Söhne', 'Mido', 'Bremont', 'Laco'\n",
        "                    ] \n",
        "\n",
        "# Iterate over each brand and count the number of augmented images\n",
        "for brand in underrepresented:\n",
        "    total_images = 0\n",
        "    for model in os.listdir('/content/drive/MyDrive/augmented_data/' + brand):\n",
        "        for img in os.listdir('/content/drive/MyDrive/augmented_data/' + brand + '/' + model):\n",
        "            total_images += 1\n",
        "    print(f\"{brand}: {total_images} images\")\n"
      ]
    }
  ],
  "metadata": {
    "language_info": {
      "name": "python"
    },
    "orig_nbformat": 4,
    "colab": {
      "provenance": [],
      "include_colab_link": true
    }
  },
  "nbformat": 4,
  "nbformat_minor": 0
}