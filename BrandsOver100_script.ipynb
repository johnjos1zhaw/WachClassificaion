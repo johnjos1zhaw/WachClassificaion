{
  "nbformat": 4,
  "nbformat_minor": 0,
  "metadata": {
    "colab": {
      "provenance": [],
      "machine_shape": "hm",
      "gpuType": "A100",
      "authorship_tag": "ABX9TyOTjB3UT5FHHcgkyENoVhGS",
      "include_colab_link": true
    },
    "kernelspec": {
      "name": "python3",
      "display_name": "Python 3"
    },
    "language_info": {
      "name": "python"
    },
    "accelerator": "TPU"
  },
  "cells": [
    {
      "cell_type": "markdown",
      "metadata": {
        "id": "view-in-github",
        "colab_type": "text"
      },
      "source": [
        "<a href=\"https://colab.research.google.com/github/johnjos1zhaw/WatchClassificaion/blob/master/BrandsOver100_script.ipynb\" target=\"_parent\"><img src=\"https://colab.research.google.com/assets/colab-badge.svg\" alt=\"Open In Colab\"/></a>"
      ]
    },
    {
      "cell_type": "code",
      "source": [
        "import os\n",
        "import shutil\n",
        "\n",
        "# Load data from Google Drive\n",
        "from google.colab import drive\n",
        "drive.mount('/content/drive')"
      ],
      "metadata": {
        "id": "Kq0iiLUqAaRO"
      },
      "execution_count": null,
      "outputs": []
    },
    {
      "cell_type": "markdown",
      "source": [
        "**DONT RUN THIS**\n",
        "\n",
        "Copy all Folders of Watch brands that have more than 100 images per brand to a new location."
      ],
      "metadata": {
        "id": "5oHqOVthLITD"
      }
    },
    {
      "cell_type": "code",
      "source": [
        "\n",
        "\n",
        "# Define the path to the data\n",
        "data_path = \"/content/drive/MyDrive/watchbase_cleansed_added\"\n",
        "\n",
        "# Initialize a dictionary to count images for each brand\n",
        "brand_counts = {}\n",
        "\n",
        "# Iterate over each brand's directory\n",
        "for brand_name in os.listdir(data_path):\n",
        "    brand_path = os.path.join(data_path, brand_name)\n",
        "    \n",
        "    # Make sure we're only looking at directories\n",
        "    if os.path.isdir(brand_path):\n",
        "        brand_count = 0\n",
        "        \n",
        "        # Iterate over each model's directory within the current brand's directory\n",
        "        for model_name in os.listdir(brand_path):\n",
        "            model_path = os.path.join(brand_path, model_name)\n",
        "            \n",
        "            # Again, make sure we're only looking at directories\n",
        "            if os.path.isdir(model_path):\n",
        "                # Add up the number of images for this brand\n",
        "                brand_count += len(os.listdir(model_path))\n",
        "        \n",
        "        brand_counts[brand_name] = brand_count\n",
        "\n",
        "# Only include brands with more than 100 images\n",
        "included_brands = {k: v for k, v in brand_counts.items() if v > 100}\n",
        "\n",
        "# Define the directory for the included brands\n",
        "included_data_path = \"/content/drive/MyDrive/included_data\"\n",
        "\n",
        "# Create the directory if it doesn't exist\n",
        "if not os.path.exists(included_data_path):\n",
        "    os.mkdir(included_data_path)\n",
        "\n",
        "# Copy the included brands data to the new directory\n",
        "for brand in included_brands:\n",
        "    src_path = os.path.join(data_path, brand)\n",
        "    dst_path = os.path.join(included_data_path, brand)\n",
        "\n",
        "    # Check if the brand directory already exists in the destination directory\n",
        "    if not os.path.exists(dst_path):\n",
        "        shutil.copytree(src_path, dst_path)\n"
      ],
      "metadata": {
        "id": "n3WxPg6pDX4T"
      },
      "execution_count": null,
      "outputs": []
    },
    {
      "cell_type": "markdown",
      "source": [
        "**Run this if you have access to the \"included_data\"-folder**\n",
        "\n",
        "Count for each brand the number of images in the new folder location!"
      ],
      "metadata": {
        "id": "3jFlKw5OLUOe"
      }
    },
    {
      "cell_type": "code",
      "source": [
        "included_data_path = \"/content/drive/MyDrive/included_data\"\n",
        "\n",
        "# Initialize a dictionary to count images for each brand\n",
        "brand_image_counts = {}\n",
        "\n",
        "# Iterate over each brand's directory\n",
        "for brand_name in os.listdir(included_data_path):\n",
        "    brand_path = os.path.join(included_data_path, brand_name)\n",
        "    \n",
        "    # Make sure we're only looking at directories\n",
        "    if os.path.isdir(brand_path):\n",
        "        brand_image_count = 0\n",
        "        \n",
        "        # Iterate over each model's directory within the current brand's directory\n",
        "        for model_name in os.listdir(brand_path):\n",
        "            model_path = os.path.join(brand_path, model_name)\n",
        "            \n",
        "            # Again, make sure we're only looking at directories\n",
        "            if os.path.isdir(model_path):\n",
        "                # Count the number of images for this model\n",
        "                model_image_count = len(os.listdir(model_path))\n",
        "                brand_image_count += model_image_count\n",
        "        \n",
        "        brand_image_counts[brand_name] = brand_image_count\n",
        "\n",
        "# Print the image counts for each brand\n",
        "for brand, count in brand_image_counts.items():\n",
        "    print(f\"Brand: {brand}, Image Count: {count}\")\n"
      ],
      "metadata": {
        "colab": {
          "base_uri": "https://localhost:8080/"
        },
        "id": "xV2AT05GJ4PT",
        "outputId": "b7314395-bc13-4bcb-9f13-bd5c5d91e145"
      },
      "execution_count": null,
      "outputs": [
        {
          "output_type": "stream",
          "name": "stdout",
          "text": [
            "Brand: Audemars Piguet, Image Count: 336\n",
            "Brand: A. Lange & Söhne, Image Count: 120\n",
            "Brand: Breguet, Image Count: 274\n",
            "Brand: Bremont, Image Count: 108\n",
            "Brand: Breitling, Image Count: 696\n",
            "Brand: Certina, Image Count: 303\n",
            "Brand: Cartier, Image Count: 125\n",
            "Brand: Frederique Constant, Image Count: 104\n",
            "Brand: Glashütte Original, Image Count: 142\n",
            "Brand: Hamilton, Image Count: 184\n",
            "Brand: IWC, Image Count: 183\n",
            "Brand: Laco, Image Count: 105\n",
            "Brand: Jaeger-LeCoultre, Image Count: 201\n",
            "Brand: Longines, Image Count: 439\n",
            "Brand: Mido, Image Count: 116\n",
            "Brand: Montblanc, Image Count: 133\n",
            "Brand: Oris, Image Count: 385\n",
            "Brand: Omega, Image Count: 552\n",
            "Brand: Nomos Glashütte, Image Count: 185\n",
            "Brand: Panerai, Image Count: 176\n",
            "Brand: Patek Philippe, Image Count: 372\n",
            "Brand: Rado, Image Count: 264\n",
            "Brand: Rolex, Image Count: 575\n",
            "Brand: Sinn, Image Count: 103\n",
            "Brand: TAG Heuer, Image Count: 229\n",
            "Brand: Tudor, Image Count: 265\n",
            "Brand: Tissot, Image Count: 964\n",
            "Brand: Vacheron Constantin, Image Count: 396\n",
            "Brand: Zenith, Image Count: 189\n",
            "Brand: Maurice Lacroix, Image Count: 200\n"
          ]
        }
      ]
    }
  ]
}